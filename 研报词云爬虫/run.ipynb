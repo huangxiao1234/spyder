{
 "cells": [
  {
   "cell_type": "code",
   "execution_count": null,
   "metadata": {
    "collapsed": true
   },
   "outputs": [],
   "source": [
    "import requests\n",
    "import re\n",
    "import datetime\n",
    "\n",
    "import sys\n",
    "from tqdm import tqdm\n",
    "import sys\n",
    "from bs4 import BeautifulSoup\n",
    "from selenium import webdriver\n",
    "\n",
    "\n",
    "now_time = datetime.datetime.now()\n",
    "date=[]\n",
    "endday=30\n",
    "for i in range(1,endday):\n",
    "    yes_time = now_time + datetime.timedelta(days=-(endday-1)+i)\n",
    "    date.append(yes_time.strftime('%m-%d'))\n",
    "\n",
    "\n",
    "all_stock=[]\n",
    "a=['x','y','z']\n",
    "a.extend(list(range(20)))\n",
    "for i in tqdm(a):\n",
    "    browser = webdriver.Chrome()\n",
    "    browser.get(\"http://data.eastmoney.com/report/#dHA9MCZjZz0wJmR0PTImcGFnZT0\"+str(i))\n",
    "    content=browser.page_source\n",
    "    browser.close()\n",
    "\n",
    "    print(i)\n",
    "    pattern1=re.compile('class=\"txt\">(.*?)</span></td><td><a href=\".*?\" class=\"hqPopCls\" data_code=\".*?\" data_name=\"(.*?)\"',re.S)\n",
    "    iterms=re.findall(pattern1,content)\n",
    "    for iterm in iterms:\n",
    "        if iterm[0] in date:\n",
    "            all_stock.append(iterm[1])\n",
    "all_stock_name_count_dict = dict.fromkeys(all_stock, 0)\n",
    "for i in all_stock:\n",
    "    all_stock_name_count_dict[i] +=1\n",
    "    \n",
    "\n",
    "print(all_stock_name_count_dict,file=open('1.txt','w'))"
   ]
  },
  {
   "cell_type": "code",
   "execution_count": null,
   "metadata": {},
   "outputs": [],
   "source": []
  }
 ],
 "metadata": {
  "kernelspec": {
   "display_name": "Python 2",
   "language": "python",
   "name": "python2"
  },
  "language_info": {
   "codemirror_mode": {
    "name": "ipython",
    "version": 2
   },
   "file_extension": ".py",
   "mimetype": "text/x-python",
   "name": "python",
   "nbconvert_exporter": "python",
   "pygments_lexer": "ipython2",
   "version": "2.7.6"
  }
 },
 "nbformat": 4,
 "nbformat_minor": 0
}
